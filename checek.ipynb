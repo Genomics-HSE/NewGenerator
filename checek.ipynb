{
 "cells": [
  {
   "cell_type": "code",
   "execution_count": 1,
   "metadata": {},
   "outputs": [],
   "source": [
    "import generator"
   ]
  },
  {
   "cell_type": "code",
   "execution_count": 4,
   "metadata": {},
   "outputs": [],
   "source": [
    "dg = generator.DataGenerator(lengt=1_0,num_replicates=3,population=10_000)"
   ]
  },
  {
   "cell_type": "code",
   "execution_count": 7,
   "metadata": {},
   "outputs": [
    {
     "name": "stdout",
     "output_type": "stream",
     "text": [
      "[3.1846010419674324, 3.1846010419674324, 3.1846010419674324, 3.1846010419674324, 3.1846010419674324, 3.1846010419674324, 3.1846010419674324, 3.1846010419674324, 3.1846010419674324, 3.1846010419674324]\n",
      "[3.0254483220332924, 3.0254483220332924, 3.0254483220332924, 3.0254483220332924, 3.0254483220332924, 3.0254483220332924, 3.0254483220332924, 3.0254483220332924, 3.0254483220332924, 3.0254483220332924]\n",
      "[1.1805775120897621, 1.1805775120897621, 1.1805775120897621, 1.1805775120897621, 1.1805775120897621, 1.1805775120897621, 1.1805775120897621, 1.1805775120897621, 1.1805775120897621, 1.1805775120897621]\n"
     ]
    }
   ],
   "source": [
    "dg.run_simulation()\n",
    "for x,t,y in dg:\n",
    "    print(y)"
   ]
  },
  {
   "cell_type": "code",
   "execution_count": null,
   "metadata": {},
   "outputs": [],
   "source": []
  }
 ],
 "metadata": {
  "kernelspec": {
   "display_name": "Python 3",
   "language": "python",
   "name": "python3"
  },
  "language_info": {
   "codemirror_mode": {
    "name": "ipython",
    "version": 3
   },
   "file_extension": ".py",
   "mimetype": "text/x-python",
   "name": "python",
   "nbconvert_exporter": "python",
   "pygments_lexer": "ipython3",
   "version": "3.8.5"
  }
 },
 "nbformat": 4,
 "nbformat_minor": 4
}
