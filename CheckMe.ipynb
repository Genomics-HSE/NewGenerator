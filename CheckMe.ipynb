{
 "cells": [
  {
   "cell_type": "code",
   "execution_count": 33,
   "metadata": {},
   "outputs": [],
   "source": [
    "import msprime\n",
    "import numpy as np\n",
    "from IPython.display import SVG, display"
   ]
  },
  {
   "cell_type": "code",
   "execution_count": 30,
   "metadata": {},
   "outputs": [],
   "source": [
    "# константы \n",
    "\n",
    "# С другими параметрами уже ощутимо дольше\n",
    "L_HUMAN = 3_0_000_000\n",
    "RHO_HUMAN = 1.6*10e-9\n",
    "MU_HUMAN = 1.25*10e-8\n",
    "\n",
    "RHO_LIMIT = (1.6*10e-10, 1.6*10e-8)\n",
    "MU_LIMIT = (1.25*10e-7, 1.25*10e-9)\n",
    "\n",
    "NUMBER_OF_EVENTS_LIMITS = (1, 20)\n",
    "LAMBDA_EXP = 20_000\n",
    "\n",
    "POPULATION = 10_000\n",
    "POPULATION_COEFF_LIMITS = (0.5, 1.5)\n",
    "MIN_POPULATION_NUM = 1_000\n"
   ]
  },
  {
   "cell_type": "code",
   "execution_count": null,
   "metadata": {},
   "outputs": [],
   "source": [
    "# Это пока не используем, берем константы \n",
    "\n",
    "def give_rho() -> float:\n",
    "    return np.random.uniform(*RHO_LIMIT)\n",
    "\n",
    "\n",
    "def give_mu() -> float:\n",
    "    return np.random.uniform(*MU_LIMIT)\n",
    "\n",
    "\n",
    "def give_random_coeff(mean=.128, var=.05) -> float:\n",
    "    return np.random.beta(.1, .028)*.0128\n",
    "\n",
    "\n",
    "def give_random_rho(base=RHO_HUMAN) -> float:\n",
    "    return np.random.uniform(0.0001, 100, 1)[0]*base"
   ]
  },
  {
   "cell_type": "code",
   "execution_count": 31,
   "metadata": {},
   "outputs": [],
   "source": [
    "# Генератор демографических событий \n",
    "\n",
    "def generate_demographic_events(population: int = POPULATION) -> 'msprime.Demography':\n",
    "    demography = msprime.Demography()\n",
    "    demography.add_population(name=\"A\", initial_size=population)\n",
    "\n",
    "    # Определяем число случайных ссобыытий в прошлом - от 1 до 20\n",
    "    number_of_events = np.random.randint(*NUMBER_OF_EVENTS_LIMITS)\n",
    "\n",
    "    # А теперь случайно нагенерим им время и отсортруем его (посторим вариацонный ряд?)\n",
    "    # Просто чтоб логично было, думаю msprime если что сам отсортрует - TODO протестировать гипотезу \n",
    "    times = sorted(np.random.exponential(LAMBDA_EXP, size=number_of_events))\n",
    "\n",
    "    # Это чтоб размер популции плссал нее около начального, а около последнего случайного\n",
    "    # Думаю так честнее\n",
    "    # Предеделы POPULATION_COEFF_LIMITS = (0.5, 1.5) и MIN_POPULATION_NUM = 1_000\n",
    "    last_population_size = population\n",
    "    for t in times:\n",
    "        last_population_size = max(last_population_size * np.random.uniform(*POPULATION_COEFF_LIMITS),\n",
    "                                   MIN_POPULATION_NUM)\n",
    "        demography.add_population_parameters_change(\n",
    "            t, initial_size=last_population_size)\n",
    "\n",
    "    return demography"
   ]
  },
  {
   "cell_type": "code",
   "execution_count": null,
   "metadata": {},
   "outputs": [],
   "source": [
    "# Это разбиватель прошого на куски - тут самый простой, константный, который режит прошлое на \n",
    "# куски размером 5_000 поколений - можно хитрее, подйодет любая неубывающая функция из R^+ -> {0,1,2,...N-1}\n",
    "# Но такая функция себя тоже нормально показывает, не дает вырожденного распределения в один интервал \n",
    "def simple_split(time: float, N: int, split_const: int = 5000) -> int:\n",
    "    return int(min(time//split_const, N-1))"
   ]
  },
  {
   "cell_type": "code",
   "execution_count": null,
   "metadata": {},
   "outputs": [],
   "source": [
    "# Сам генератор - самое интересное\n",
    "\n",
    "class DataGenerator():\n",
    "    def __init__(self,\n",
    "                 recombination_rate: float = RHO_HUMAN,\n",
    "                 mutation_rate: float = MU_HUMAN,\n",
    "                 demographic_events: list = None,\n",
    "                 population: int = None,\n",
    "                 number_intervals: int = 20,\n",
    "                 splitter=simple_split,  # maust be annotiede\n",
    "                 num_replicates: int = 1,\n",
    "                 lengt: int = L_HUMAN,\n",
    "                 model: str = \"hudson\",\n",
    "                 random_seed: int = 42,\n",
    "                 sample_size: int = 2,\n",
    "                 ):\n",
    "        # Тут все технчиеское\n",
    "        self.sample_size = sample_size\n",
    "        self.recombination_rate = recombination_rate\n",
    "        self.mutation_rate = mutation_rate\n",
    "        self.num_replicates = num_replicates\n",
    "        if not demographic_events:\n",
    "            if not population:\n",
    "                raise BaseException(\n",
    "                    \"Eiter demographic_events or population must be speciefied\")\n",
    "            demographic_events = msprime.Demography()\n",
    "            demographic_events.add_population(\n",
    "                name=\"A\", initial_size=population)\n",
    "        self.demographic_events = demographic_events\n",
    "        self.splitter = splitter\n",
    "        self.model = model\n",
    "        self.len = lengt\n",
    "        self.random_seed = random_seed\n",
    "        self.number_intervals = number_intervals\n",
    "        self._data = None\n",
    "\n",
    "    def run_simulation(self):\n",
    "        \"\"\"\n",
    "        return generator(tskit.TreeSequence)\n",
    "        function run the simulation with given parametrs\n",
    "        \"\"\"\n",
    "        # техническое\n",
    "        self._data = msprime.sim_ancestry(\n",
    "            recombination_rate=self.recombination_rate,\n",
    "            sequence_length=self.len,\n",
    "            num_replicates=self.num_replicates,\n",
    "            demography = self.demographic_events,\n",
    "            model=self.model,\n",
    "            random_seed=self.random_seed,\n",
    "            samples=self.sample_size)\n",
    "        return self._data\n",
    "\n",
    "    def __iter__(self):\n",
    "        # техническое\n",
    "        return self\n",
    "\n",
    "    def __next__(self):\n",
    "        \"\"\"\n",
    "        return haplotype, recombination points and coalescent time\n",
    "        \"\"\"\n",
    "        # техническое\n",
    "        if self._data is None:\n",
    "            self.run_simulation()\n",
    "\n",
    "        try:\n",
    "            tree = next(self._data)\n",
    "        except StopIteration:\n",
    "            raise StopIteration\n",
    "\n",
    "        # Инетерсное\n",
    "        # Накидываем мутации - теперь они идут отдлеьно от рекомбаций\n",
    "        mutated_ts = msprime.sim_mutations(\n",
    "            tree, rate=self.mutation_rate)  # random_seed\n",
    "        \n",
    "        # генерим три списка, которые будут данными\n",
    "        times = [0]*self.len\n",
    "        mutations = [0]*self.len\n",
    "        prior_dist = [0.0]*self.number_intervals\n",
    "        \n",
    "        # Получаем генном - в целом все просто, сначала у нас был вектор длины L из нулей, теперь мы раскидали по нему 1\n",
    "        # там, где была мутация\n",
    "        for m in mutated_ts.mutations():\n",
    "            mutations[int(m.position)] = 1\n",
    "\n",
    "        \n",
    "        for t in mutated_ts.aslist():\n",
    "            # Для каждого участка, пришедшего от одного предка\n",
    "            # полуучаем интервалы участка \n",
    "            interval = t.get_interval()\n",
    "            left = interval.left\n",
    "            right = interval.right\n",
    "            # и время - коэфицент 2 подобран эмпрически, ссмотря на дерево - чуть ниже объяснения\n",
    "            time = t.get_total_branch_length()/2\n",
    "            # Закинулы в ответ\n",
    "            times[int(left):int(right)] = [time]*int(right-left)\n",
    "            # Закинулы отсноистельную длину участка в необходимй интервал \n",
    "            prior_dist[self.splitter(\n",
    "                time, self.number_intervals)] += (int(right-left))/self.len\n",
    "\n",
    "        return mutations, prior_dist, times\n"
   ]
  },
  {
   "cell_type": "code",
   "execution_count": 5,
   "metadata": {},
   "outputs": [],
   "source": [
    "# Немного объяснений почему так - с картинкам, для пущего убеждения\n",
    "\n",
    "ts = msprime.sim_ancestry(\n",
    "    samples=1,\n",
    "    recombination_rate=1e-8,\n",
    "    sequence_length=5_000,\n",
    "    population_size=10_000,\n",
    "    model=\"hudson\",\n",
    "    num_replicates=2,\n",
    "    random_seed=42)"
   ]
  },
  {
   "cell_type": "code",
   "execution_count": 6,
   "metadata": {},
   "outputs": [
    {
     "data": {
      "image/svg+xml": [
       "<svg xmlns=\"http://www.w3.org/2000/svg\" xmlns:ev=\"http://www.w3.org/2001/xml-events\" xmlns:xlink=\"http://www.w3.org/1999/xlink\" baseProfile=\"full\" height=\"200\" version=\"1.1\" width=\"600\"><defs><style type=\"text/css\"><![CDATA[.tree-sequence .background path {fill: #808080; fill-opacity:0}.tree-sequence .background path:nth-child(odd) {fill-opacity:.1}.axes {font-size: 14px}.x-axis .tick .lab {font-weight: bold}.axes, .tree {font-size: 14px; text-anchor:middle}.y-axis line.grid {stroke: #FAFAFA}.y-axis > .lab text {transform: translateX(0.8em) rotate(-90deg)}.x-axis .tick g {transform: translateY(0.9em)}.x-axis > .lab text {transform: translateY(-0.8em)}.axes line, .edge {stroke:black; fill:none}.node > .sym {fill: black; stroke: none}.site > .sym {stroke: black}.mut text {fill: red; font-style: italic}.mut line {fill: none; stroke: none}.mut .sym {fill: none; stroke: red}.node .mut .sym {stroke-width: 1.5px}.tree text, .tree-sequence text {dominant-baseline: central}.plotbox .lab.lft {text-anchor: end}.plotbox .lab.rgt {text-anchor: start}]]></style></defs><g class=\"tree-sequence\"><g class=\"background\"><path d=\"M56.8,0 l174.4,0 l0,138.2 l66.6906,25 l0,5 l-241.091,0 l0,-5 l0,-25 l0,-138.2z\"/><path d=\"M231.2,0 l174.4,0 l0,138.2 l122.812,25 l0,5 l-230.522,0 l0,-5 l-66.6906,-25 l0,-138.2z\"/><path d=\"M405.6,0 l174.4,0 l0,138.2 l0,25 l0,5 l-51.5875,0 l0,-5 l-122.812,-25 l0,-138.2z\"/></g><g class=\"axes\"><g class=\"x-axis\"><g class=\"lab\" transform=\"translate(318.4,200)\"><text text-anchor=\"middle\">Genome position</text></g><line x1=\"56.8\" x2=\"580\" y1=\"163.2\" y2=\"163.2\"/><g class=\"tick\" transform=\"translate(56.8 163.2)\"><line x1=\"0\" x2=\"0\" y1=\"0\" y2=\"5\"/><g class=\"lab\" transform=\"translate(0,5)\"><text>0</text></g></g><g class=\"tick\" transform=\"translate(297.891 163.2)\"><line x1=\"0\" x2=\"0\" y1=\"0\" y2=\"5\"/><g class=\"lab\" transform=\"translate(0,5)\"><text>2304</text></g></g><g class=\"tick\" transform=\"translate(528.412 163.2)\"><line x1=\"0\" x2=\"0\" y1=\"0\" y2=\"5\"/><g class=\"lab\" transform=\"translate(0,5)\"><text>4507</text></g></g><g class=\"tick\" transform=\"translate(580 163.2)\"><line x1=\"0\" x2=\"0\" y1=\"0\" y2=\"5\"/><g class=\"lab\" transform=\"translate(0,5)\"><text>5000</text></g></g></g><g class=\"y-axis\"><g class=\"lab\" transform=\"translate(0,65.7)\"><text text-anchor=\"middle\">Time</text></g><line x1=\"56.8\" x2=\"56.8\" y1=\"121.4\" y2=\"10\"/><g class=\"tick\" transform=\"translate(56.8 121.4)\"><line x1=\"0\" x2=\"-5\" y1=\"0\" y2=\"0\"/><g class=\"lab\" transform=\"translate(-5,0)\"><text text-anchor=\"end\">0.00</text></g></g><g class=\"tick\" transform=\"translate(56.8 71.7414)\"><line x1=\"0\" x2=\"-5\" y1=\"0\" y2=\"0\"/><g class=\"lab\" transform=\"translate(-5,0)\"><text text-anchor=\"end\">9748.87</text></g></g><g class=\"tick\" transform=\"translate(56.8 68.1644)\"><line x1=\"0\" x2=\"-5\" y1=\"0\" y2=\"0\"/><g class=\"lab\" transform=\"translate(-5,0)\"><text text-anchor=\"end\">10451.09</text></g></g><g class=\"tick\" transform=\"translate(56.8 26.8)\"><line x1=\"0\" x2=\"-5\" y1=\"0\" y2=\"0\"/><g class=\"lab\" transform=\"translate(-5,0)\"><text text-anchor=\"end\">18571.65</text></g></g></g></g><g class=\"plotbox trees\"><g class=\"tree t0\" transform=\"translate(56.8 0)\"><g class=\"plotbox\"><g class=\"node n4 p0 root\" transform=\"translate(87.2 26.8)\"><g class=\"a4 i0 leaf node n0 p0 sample\" transform=\"translate(-33.6 94.6)\"><path class=\"edge\" d=\"M 0 0 V -94.6 H 33.6\"/><rect class=\"sym\" height=\"6\" width=\"6\" x=\"-3\" y=\"-3\"/><text class=\"lab\" transform=\"translate(0 11)\">0</text></g><g class=\"a4 i0 leaf node n1 p0 sample\" transform=\"translate(33.6 94.6)\"><path class=\"edge\" d=\"M 0 0 V -94.6 H -33.6\"/><rect class=\"sym\" height=\"6\" width=\"6\" x=\"-3\" y=\"-3\"/><text class=\"lab\" transform=\"translate(0 11)\">1</text></g><circle class=\"sym\" cx=\"0\" cy=\"0\" r=\"3\"/><text class=\"lab\" transform=\"translate(0 -11)\">4</text></g></g></g><g class=\"tree t1\" transform=\"translate(231.2 0)\"><g class=\"plotbox\"><g class=\"node n2 p0 root\" transform=\"translate(87.2 71.7414)\"><g class=\"a2 i0 leaf node n0 p0 sample\" transform=\"translate(-33.6 49.6586)\"><path class=\"edge\" d=\"M 0 0 V -49.6586 H 33.6\"/><rect class=\"sym\" height=\"6\" width=\"6\" x=\"-3\" y=\"-3\"/><text class=\"lab\" transform=\"translate(0 11)\">0</text></g><g class=\"a2 i0 leaf node n1 p0 sample\" transform=\"translate(33.6 49.6586)\"><path class=\"edge\" d=\"M 0 0 V -49.6586 H -33.6\"/><rect class=\"sym\" height=\"6\" width=\"6\" x=\"-3\" y=\"-3\"/><text class=\"lab\" transform=\"translate(0 11)\">1</text></g><circle class=\"sym\" cx=\"0\" cy=\"0\" r=\"3\"/><text class=\"lab\" transform=\"translate(0 -11)\">2</text></g></g></g><g class=\"tree t2\" transform=\"translate(405.6 0)\"><g class=\"plotbox\"><g class=\"node n3 p0 root\" transform=\"translate(87.2 68.1644)\"><g class=\"a3 i0 leaf node n0 p0 sample\" transform=\"translate(-33.6 53.2356)\"><path class=\"edge\" d=\"M 0 0 V -53.2356 H 33.6\"/><rect class=\"sym\" height=\"6\" width=\"6\" x=\"-3\" y=\"-3\"/><text class=\"lab\" transform=\"translate(0 11)\">0</text></g><g class=\"a3 i0 leaf node n1 p0 sample\" transform=\"translate(33.6 53.2356)\"><path class=\"edge\" d=\"M 0 0 V -53.2356 H -33.6\"/><rect class=\"sym\" height=\"6\" width=\"6\" x=\"-3\" y=\"-3\"/><text class=\"lab\" transform=\"translate(0 11)\">1</text></g><circle class=\"sym\" cx=\"0\" cy=\"0\" r=\"3\"/><text class=\"lab\" transform=\"translate(0 -11)\">3</text></g></g></g></g></g></svg>"
      ],
      "text/plain": [
       "<IPython.core.display.SVG object>"
      ]
     },
     "execution_count": 6,
     "metadata": {},
     "output_type": "execute_result"
    }
   ],
   "source": [
    "# То, что нам надо - но без мутаций\n",
    "t = next(ts)\n",
    "SVG(t.draw_svg(y_axis=True))\n"
   ]
  },
  {
   "cell_type": "code",
   "execution_count": 7,
   "metadata": {},
   "outputs": [
    {
     "data": {
      "image/svg+xml": [
       "<svg xmlns=\"http://www.w3.org/2000/svg\" xmlns:ev=\"http://www.w3.org/2001/xml-events\" xmlns:xlink=\"http://www.w3.org/1999/xlink\" baseProfile=\"full\" height=\"200\" version=\"1.1\" width=\"600\"><defs><style type=\"text/css\"><![CDATA[.tree-sequence .background path {fill: #808080; fill-opacity:0}.tree-sequence .background path:nth-child(odd) {fill-opacity:.1}.axes {font-size: 14px}.x-axis .tick .lab {font-weight: bold}.axes, .tree {font-size: 14px; text-anchor:middle}.y-axis line.grid {stroke: #FAFAFA}.y-axis > .lab text {transform: translateX(0.8em) rotate(-90deg)}.x-axis .tick g {transform: translateY(0.9em)}.x-axis > .lab text {transform: translateY(-0.8em)}.axes line, .edge {stroke:black; fill:none}.node > .sym {fill: black; stroke: none}.site > .sym {stroke: black}.mut text {fill: red; font-style: italic}.mut line {fill: none; stroke: none}.mut .sym {fill: none; stroke: red}.node .mut .sym {stroke-width: 1.5px}.tree text, .tree-sequence text {dominant-baseline: central}.plotbox .lab.lft {text-anchor: end}.plotbox .lab.rgt {text-anchor: start}]]></style></defs><g class=\"tree-sequence\"><g class=\"background\"><path d=\"M56.8,0 l174.4,0 l0,138.2 l-163.622,25 l0,5 l-10.7779,0 l0,-5 l0,-25 l0,-138.2z\"/><path d=\"M231.2,0 l174.4,0 l0,138.2 l-116.499,25 l0,5 l-221.523,0 l0,-5 l163.622,-25 l0,-138.2z\"/><path d=\"M405.6,0 l174.4,0 l0,138.2 l0,25 l0,5 l-290.899,0 l0,-5 l116.499,-25 l0,-138.2z\"/></g><g class=\"axes\"><g class=\"x-axis\"><g class=\"lab\" transform=\"translate(318.4,200)\"><text text-anchor=\"middle\">Genome position</text></g><line x1=\"56.8\" x2=\"580\" y1=\"163.2\" y2=\"163.2\"/><g class=\"tick\" transform=\"translate(56.8 163.2)\"><line x1=\"0\" x2=\"0\" y1=\"0\" y2=\"5\"/><g class=\"lab\" transform=\"translate(0,5)\"><text>0</text></g></g><g class=\"tick\" transform=\"translate(67.5779 163.2)\"><line x1=\"0\" x2=\"0\" y1=\"0\" y2=\"5\"/><g class=\"lab\" transform=\"translate(0,5)\"><text>103</text></g></g><g class=\"tick\" transform=\"translate(289.101 163.2)\"><line x1=\"0\" x2=\"0\" y1=\"0\" y2=\"5\"/><g class=\"lab\" transform=\"translate(0,5)\"><text>2220</text></g></g><g class=\"tick\" transform=\"translate(580 163.2)\"><line x1=\"0\" x2=\"0\" y1=\"0\" y2=\"5\"/><g class=\"lab\" transform=\"translate(0,5)\"><text>5000</text></g></g></g><g class=\"y-axis\"><g class=\"lab\" transform=\"translate(0,65.7)\"><text text-anchor=\"middle\">Time</text></g><line x1=\"56.8\" x2=\"56.8\" y1=\"121.4\" y2=\"10\"/><g class=\"tick\" transform=\"translate(56.8 121.4)\"><line x1=\"0\" x2=\"-5\" y1=\"0\" y2=\"0\"/><g class=\"lab\" transform=\"translate(-5,0)\"><text text-anchor=\"end\">0.00</text></g></g><g class=\"tick\" transform=\"translate(56.8 50.002)\"><line x1=\"0\" x2=\"-5\" y1=\"0\" y2=\"0\"/><g class=\"lab\" transform=\"translate(-5,0)\"><text text-anchor=\"end\">25410.95</text></g></g><g class=\"tick\" transform=\"translate(56.8 41.6899)\"><line x1=\"0\" x2=\"-5\" y1=\"0\" y2=\"0\"/><g class=\"lab\" transform=\"translate(-5,0)\"><text text-anchor=\"end\">28369.26</text></g></g><g class=\"tick\" transform=\"translate(56.8 26.8)\"><line x1=\"0\" x2=\"-5\" y1=\"0\" y2=\"0\"/><g class=\"lab\" transform=\"translate(-5,0)\"><text text-anchor=\"end\">33668.66</text></g></g></g></g><g class=\"plotbox trees\"><g class=\"tree t0\" transform=\"translate(56.8 0)\"><g class=\"plotbox\"><g class=\"node n3 p0 root\" transform=\"translate(87.2 41.6899)\"><g class=\"a3 i0 leaf node n0 p0 sample\" transform=\"translate(-33.6 79.7101)\"><path class=\"edge\" d=\"M 0 0 V -79.7101 H 33.6\"/><rect class=\"sym\" height=\"6\" width=\"6\" x=\"-3\" y=\"-3\"/><text class=\"lab\" transform=\"translate(0 11)\">0</text></g><g class=\"a3 i0 leaf node n1 p0 sample\" transform=\"translate(33.6 79.7101)\"><path class=\"edge\" d=\"M 0 0 V -79.7101 H -33.6\"/><rect class=\"sym\" height=\"6\" width=\"6\" x=\"-3\" y=\"-3\"/><text class=\"lab\" transform=\"translate(0 11)\">1</text></g><circle class=\"sym\" cx=\"0\" cy=\"0\" r=\"3\"/><text class=\"lab\" transform=\"translate(0 -11)\">3</text></g></g></g><g class=\"tree t1\" transform=\"translate(231.2 0)\"><g class=\"plotbox\"><g class=\"node n4 p0 root\" transform=\"translate(87.2 26.8)\"><g class=\"a4 i0 leaf node n0 p0 sample\" transform=\"translate(-33.6 94.6)\"><path class=\"edge\" d=\"M 0 0 V -94.6 H 33.6\"/><rect class=\"sym\" height=\"6\" width=\"6\" x=\"-3\" y=\"-3\"/><text class=\"lab\" transform=\"translate(0 11)\">0</text></g><g class=\"a4 i0 leaf node n1 p0 sample\" transform=\"translate(33.6 94.6)\"><path class=\"edge\" d=\"M 0 0 V -94.6 H -33.6\"/><rect class=\"sym\" height=\"6\" width=\"6\" x=\"-3\" y=\"-3\"/><text class=\"lab\" transform=\"translate(0 11)\">1</text></g><circle class=\"sym\" cx=\"0\" cy=\"0\" r=\"3\"/><text class=\"lab\" transform=\"translate(0 -11)\">4</text></g></g></g><g class=\"tree t2\" transform=\"translate(405.6 0)\"><g class=\"plotbox\"><g class=\"node n2 p0 root\" transform=\"translate(87.2 50.002)\"><g class=\"a2 i0 leaf node n0 p0 sample\" transform=\"translate(-33.6 71.398)\"><path class=\"edge\" d=\"M 0 0 V -71.398 H 33.6\"/><rect class=\"sym\" height=\"6\" width=\"6\" x=\"-3\" y=\"-3\"/><text class=\"lab\" transform=\"translate(0 11)\">0</text></g><g class=\"a2 i0 leaf node n1 p0 sample\" transform=\"translate(33.6 71.398)\"><path class=\"edge\" d=\"M 0 0 V -71.398 H -33.6\"/><rect class=\"sym\" height=\"6\" width=\"6\" x=\"-3\" y=\"-3\"/><text class=\"lab\" transform=\"translate(0 11)\">1</text></g><circle class=\"sym\" cx=\"0\" cy=\"0\" r=\"3\"/><text class=\"lab\" transform=\"translate(0 -11)\">2</text></g></g></g></g></g></svg>"
      ],
      "text/plain": [
       "<IPython.core.display.SVG object>"
      ]
     },
     "execution_count": 7,
     "metadata": {},
     "output_type": "execute_result"
    }
   ],
   "source": [
    "# второе что нам надо - но уже другое\n",
    "t = next(ts)\n",
    "SVG(t.draw_svg(y_axis=True))"
   ]
  },
  {
   "cell_type": "code",
   "execution_count": 8,
   "metadata": {},
   "outputs": [
    {
     "ename": "StopIteration",
     "evalue": "",
     "output_type": "error",
     "traceback": [
      "\u001b[0;31m---------------------------------------------------------------------------\u001b[0m",
      "\u001b[0;31mStopIteration\u001b[0m                             Traceback (most recent call last)",
      "\u001b[0;32m<ipython-input-8-396eb3512c9c>\u001b[0m in \u001b[0;36m<module>\u001b[0;34m\u001b[0m\n\u001b[1;32m      1\u001b[0m \u001b[0;31m# второе что нам надо - но уже другое\u001b[0m\u001b[0;34m\u001b[0m\u001b[0;34m\u001b[0m\u001b[0;34m\u001b[0m\u001b[0m\n\u001b[0;32m----> 2\u001b[0;31m \u001b[0mt\u001b[0m \u001b[0;34m=\u001b[0m \u001b[0mnext\u001b[0m\u001b[0;34m(\u001b[0m\u001b[0mts\u001b[0m\u001b[0;34m)\u001b[0m\u001b[0;34m\u001b[0m\u001b[0;34m\u001b[0m\u001b[0m\n\u001b[0m\u001b[1;32m      3\u001b[0m \u001b[0mSVG\u001b[0m\u001b[0;34m(\u001b[0m\u001b[0mt\u001b[0m\u001b[0;34m.\u001b[0m\u001b[0mdraw_svg\u001b[0m\u001b[0;34m(\u001b[0m\u001b[0my_axis\u001b[0m\u001b[0;34m=\u001b[0m\u001b[0;32mTrue\u001b[0m\u001b[0;34m)\u001b[0m\u001b[0;34m)\u001b[0m\u001b[0;34m\u001b[0m\u001b[0;34m\u001b[0m\u001b[0m\n",
      "\u001b[0;31mStopIteration\u001b[0m: "
     ]
    }
   ],
   "source": [
    "# то, чот нам надо закончлось - так как мы поставли num_replicates=2\n",
    "t = next(ts)\n",
    "SVG(t.draw_svg(y_axis=True))"
   ]
  },
  {
   "cell_type": "code",
   "execution_count": 10,
   "metadata": {},
   "outputs": [
    {
     "data": {
      "image/svg+xml": [
       "<svg xmlns=\"http://www.w3.org/2000/svg\" xmlns:ev=\"http://www.w3.org/2001/xml-events\" xmlns:xlink=\"http://www.w3.org/1999/xlink\" baseProfile=\"full\" height=\"200\" version=\"1.1\" width=\"600\"><defs><style type=\"text/css\"><![CDATA[.tree-sequence .background path {fill: #808080; fill-opacity:0}.tree-sequence .background path:nth-child(odd) {fill-opacity:.1}.axes {font-size: 14px}.x-axis .tick .lab {font-weight: bold}.axes, .tree {font-size: 14px; text-anchor:middle}.y-axis line.grid {stroke: #FAFAFA}.y-axis > .lab text {transform: translateX(0.8em) rotate(-90deg)}.x-axis .tick g {transform: translateY(0.9em)}.x-axis > .lab text {transform: translateY(-0.8em)}.axes line, .edge {stroke:black; fill:none}.node > .sym {fill: black; stroke: none}.site > .sym {stroke: black}.mut text {fill: red; font-style: italic}.mut line {fill: none; stroke: none}.mut .sym {fill: none; stroke: red}.node .mut .sym {stroke-width: 1.5px}.tree text, .tree-sequence text {dominant-baseline: central}.plotbox .lab.lft {text-anchor: end}.plotbox .lab.rgt {text-anchor: start}]]></style></defs><g class=\"tree-sequence\"><g class=\"background\"><path d=\"M20,0 l186.667,0 l0,138.2 l71.3813,25 l0,5 l-258.048,0 l0,-5 l0,-25 l0,-138.2z\"/><path d=\"M206.667,0 l186.667,0 l0,138.2 l131.451,25 l0,5 l-246.736,0 l0,-5 l-71.3813,-25 l0,-138.2z\"/><path d=\"M393.333,0 l186.667,0 l0,138.2 l0,25 l0,5 l-55.216,0 l0,-5 l-131.451,-25 l0,-138.2z\"/></g><g class=\"axes\"><g class=\"x-axis\"><g class=\"lab\" transform=\"translate(300,200)\"><text text-anchor=\"middle\">Genome position</text></g><line x1=\"20\" x2=\"580\" y1=\"163.2\" y2=\"163.2\"/><g class=\"tick\" transform=\"translate(20 163.2)\"><line x1=\"0\" x2=\"0\" y1=\"0\" y2=\"5\"/><g class=\"lab\" transform=\"translate(0,5)\"><text>0</text></g></g><g class=\"tick\" transform=\"translate(278.048 163.2)\"><line x1=\"0\" x2=\"0\" y1=\"0\" y2=\"5\"/><g class=\"lab\" transform=\"translate(0,5)\"><text>2304</text></g></g><g class=\"tick\" transform=\"translate(524.784 163.2)\"><line x1=\"0\" x2=\"0\" y1=\"0\" y2=\"5\"/><g class=\"lab\" transform=\"translate(0,5)\"><text>4507</text></g></g><g class=\"tick\" transform=\"translate(580 163.2)\"><line x1=\"0\" x2=\"0\" y1=\"0\" y2=\"5\"/><g class=\"lab\" transform=\"translate(0,5)\"><text>5000</text></g></g><g class=\"site s0\" transform=\"translate(27.616 163.2)\"><line class=\"sym\" x1=\"0\" x2=\"0\" y1=\"0\" y2=\"-10\"/><g class=\"mut m0\"><polyline class=\"sym\" points=\"2.5,-6.5 0,-1.5 -2.5,-6.5\"/></g></g><g class=\"site s1\" transform=\"translate(62.224 163.2)\"><line class=\"sym\" x1=\"0\" x2=\"0\" y1=\"0\" y2=\"-10\"/><g class=\"mut m1\"><polyline class=\"sym\" points=\"2.5,-6.5 0,-1.5 -2.5,-6.5\"/></g></g><g class=\"site s2\" transform=\"translate(431.936 163.2)\"><line class=\"sym\" x1=\"0\" x2=\"0\" y1=\"0\" y2=\"-10\"/><g class=\"mut m2\"><polyline class=\"sym\" points=\"2.5,-6.5 0,-1.5 -2.5,-6.5\"/></g></g></g></g><g class=\"plotbox trees\"><g class=\"tree t0\" transform=\"translate(20 0)\"><g class=\"plotbox\"><g class=\"node n4 p0 root\" transform=\"translate(93.3333 26.8)\"><g class=\"a4 i0 leaf m0 node n0 p0 s0 sample\" transform=\"translate(-36.6667 94.6)\"><path class=\"edge\" d=\"M 0 0 V -94.6 H 36.6667\"/><g class=\"mut m0 s0\" transform=\"translate(0 -39.1132)\"><line x1=\"0\" x2=\"0\" y1=\"0\" y2=\"39.1132\"/><path class=\"sym\" d=\"M -3,-3 l 6,6 M -3,3 l 6,-6\"/><text class=\"lab lft\" transform=\"translate(-5 0)\">0</text></g><rect class=\"sym\" height=\"6\" width=\"6\" x=\"-3\" y=\"-3\"/><text class=\"lab\" transform=\"translate(0 11)\">0</text></g><g class=\"a4 i0 leaf m1 node n1 p0 s1 sample\" transform=\"translate(36.6667 94.6)\"><path class=\"edge\" d=\"M 0 0 V -94.6 H -36.6667\"/><g class=\"mut m1 s1\" transform=\"translate(0 -73.5622)\"><line x1=\"0\" x2=\"0\" y1=\"0\" y2=\"73.5622\"/><path class=\"sym\" d=\"M -3,-3 l 6,6 M -3,3 l 6,-6\"/><text class=\"lab rgt\" transform=\"translate(5 0)\">1</text></g><rect class=\"sym\" height=\"6\" width=\"6\" x=\"-3\" y=\"-3\"/><text class=\"lab\" transform=\"translate(0 11)\">1</text></g><circle class=\"sym\" cx=\"0\" cy=\"0\" r=\"3\"/><text class=\"lab\" transform=\"translate(0 -11)\">4</text></g></g></g><g class=\"tree t1\" transform=\"translate(206.667 0)\"><g class=\"plotbox\"><g class=\"node n2 p0 root\" transform=\"translate(93.3333 71.7414)\"><g class=\"a2 i0 leaf m2 node n0 p0 s2 sample\" transform=\"translate(-36.6667 49.6586)\"><path class=\"edge\" d=\"M 0 0 V -49.6586 H 36.6667\"/><g class=\"mut m2 s2\" transform=\"translate(0 -9.10513)\"><line x1=\"0\" x2=\"0\" y1=\"0\" y2=\"9.10513\"/><path class=\"sym\" d=\"M -3,-3 l 6,6 M -3,3 l 6,-6\"/><text class=\"lab lft\" transform=\"translate(-5 0)\">2</text></g><rect class=\"sym\" height=\"6\" width=\"6\" x=\"-3\" y=\"-3\"/><text class=\"lab\" transform=\"translate(0 11)\">0</text></g><g class=\"a2 i0 leaf node n1 p0 sample\" transform=\"translate(36.6667 49.6586)\"><path class=\"edge\" d=\"M 0 0 V -49.6586 H -36.6667\"/><rect class=\"sym\" height=\"6\" width=\"6\" x=\"-3\" y=\"-3\"/><text class=\"lab\" transform=\"translate(0 11)\">1</text></g><circle class=\"sym\" cx=\"0\" cy=\"0\" r=\"3\"/><text class=\"lab\" transform=\"translate(0 -11)\">2</text></g></g></g><g class=\"tree t2\" transform=\"translate(393.333 0)\"><g class=\"plotbox\"><g class=\"node n3 p0 root\" transform=\"translate(93.3333 68.1644)\"><g class=\"a3 i0 leaf node n0 p0 sample\" transform=\"translate(-36.6667 53.2356)\"><path class=\"edge\" d=\"M 0 0 V -53.2356 H 36.6667\"/><rect class=\"sym\" height=\"6\" width=\"6\" x=\"-3\" y=\"-3\"/><text class=\"lab\" transform=\"translate(0 11)\">0</text></g><g class=\"a3 i0 leaf node n1 p0 sample\" transform=\"translate(36.6667 53.2356)\"><path class=\"edge\" d=\"M 0 0 V -53.2356 H -36.6667\"/><rect class=\"sym\" height=\"6\" width=\"6\" x=\"-3\" y=\"-3\"/><text class=\"lab\" transform=\"translate(0 11)\">1</text></g><circle class=\"sym\" cx=\"0\" cy=\"0\" r=\"3\"/><text class=\"lab\" transform=\"translate(0 -11)\">3</text></g></g></g></g></g></svg>"
      ],
      "text/plain": [
       "<IPython.core.display.SVG object>"
      ]
     },
     "execution_count": 10,
     "metadata": {},
     "output_type": "execute_result"
    }
   ],
   "source": [
    "# Накнем мутаций\n",
    "ts = msprime.sim_ancestry(\n",
    "    samples=1,\n",
    "    recombination_rate=1e-8,\n",
    "    sequence_length=5_000,\n",
    "    population_size=10_000,\n",
    "    # ploidy=2,\n",
    "    model=\"hudson\",\n",
    "    random_seed=42)\n",
    "mutated_ts = msprime.sim_mutations(ts, rate=1e-8, random_seed=54321)\n",
    "# Визуалзация шикарная\n",
    "SVG(mutated_ts.draw_svg())"
   ]
  },
  {
   "cell_type": "code",
   "execution_count": 27,
   "metadata": {},
   "outputs": [],
   "source": [
    "# Глянем на генератор с заданными деем ссобытями\n",
    "\n",
    "demography = msprime.Demography()\n",
    "demography.add_population(name=\"A\", initial_size=10_000)\n",
    "demography.add_population_parameters_change(2_000, initial_size =2_000)\n",
    "demography.add_population_parameters_change(10_000, initial_size = 10_000)\n",
    "\n",
    "L = 3_0_000_000\n",
    "N = 20\n",
    "### ####\n",
    "ts = msprime.sim_ancestry(\n",
    "    samples=1,\n",
    "    recombination_rate=1e-8,\n",
    "    sequence_length=L,\n",
    "    # population_size=10_000,\n",
    "    demography=demography,\n",
    "    # ploidy=2,\n",
    "    model=\"hudson\",\n",
    "    random_seed=42)\n",
    "\n",
    "mutated_ts = msprime.sim_mutations(ts, rate=1e-8, random_seed=54321)\n",
    "\n",
    "times = [0]*L\n",
    "mutations = [0]*L\n",
    "prior_dist = [0.0]*N\n",
    "\n",
    "def simple_split(time: float, split_const: int = 5000) -> int:\n",
    "    return int(min(time//split_const, N-1))\n",
    "\n",
    "\n",
    "splitter = simple_split\n",
    "\n",
    "for m in mutated_ts.mutations():\n",
    "    mutations[int(m.position)] = 1\n",
    "    \n",
    "for t in mutated_ts.aslist():\n",
    "    interval = t.get_interval()\n",
    "    left = interval.left\n",
    "    right = interval.right\n",
    "    time = t.get_total_branch_length()/2\n",
    "    times[int(left):int(right)] = [time]*int(right-left)\n",
    "    prior_dist[splitter(time)] += (int(right-left))/L"
   ]
  },
  {
   "cell_type": "code",
   "execution_count": 28,
   "metadata": {},
   "outputs": [
    {
     "data": {
      "text/plain": [
       "[0.5545362666666668,\n",
       " 0.31501256666666644,\n",
       " 0.028784233333333336,\n",
       " 0.02352593333333333,\n",
       " 0.01958920000000001,\n",
       " 0.015370333333333335,\n",
       " 0.008557166666666668,\n",
       " 0.0060410333333333335,\n",
       " 0.007455533333333337,\n",
       " 0.0047807,\n",
       " 0.0033809333333333336,\n",
       " 0.0032503333333333325,\n",
       " 0.0011061333333333336,\n",
       " 0.0019578666666666663,\n",
       " 0.0009477999999999998,\n",
       " 0.0012390000000000003,\n",
       " 0.0008481666666666666,\n",
       " 0.0009957666666666667,\n",
       " 0.0002895666666666667,\n",
       " 0.002331466666666667]"
      ]
     },
     "execution_count": 28,
     "metadata": {},
     "output_type": "execute_result"
    }
   ],
   "source": [
    "prior_dist"
   ]
  },
  {
   "cell_type": "code",
   "execution_count": 34,
   "metadata": {},
   "outputs": [
    {
     "data": {
      "text/html": [
       "<div><details open=\"true\"><summary>Epoch[0]: [0, 4.72e+03) generations</summary><div style=\"margin-left:20px\"><div><style scoped=\"\">\n",
       "            .tskit-table thead tr th:only-of-type {vertical-align: middle;}\n",
       "            .tskit-table thead tr th {text-align: center;vertical-align: top;}\n",
       "            .tskit-table tbody td {text-align: right;padding: 0.5em 0.5em;}\n",
       "            .tskit-table tbody th {padding: 0.5em 0.5em;}\n",
       "        </style><b>Populations (total=1 active=1)</b><table border=\"1\" class=\"tskit-table\"><thead><tr><th></th><th>start</th><th>end</th><th>growth_rate</th></tr></thead><tbody><tr><td>A</td><td> 10000.0</td><td> 10000.0</td><td> 0</td></tr></tbody></table></div><div><style scoped=\"\">\n",
       "            .tskit-table thead tr th:only-of-type {vertical-align: middle;}\n",
       "            .tskit-table thead tr th {text-align: center;vertical-align: top;}\n",
       "            .tskit-table tbody td {text-align: right;padding: 0.5em 0.5em;}\n",
       "            .tskit-table tbody th {padding: 0.5em 0.5em;}\n",
       "        </style><b>Events @ generation 4.72e+03</b><table border=\"1\" class=\"tskit-table\"><thead><tr><th>time</th><th>type</th><th>parameters</th><th>effect</th></tr></thead><tbody><tr><td>4723</td><td><a href='https://tskit.dev/msprime/docs/latest/api.html#msprime.Demography.add_population_parameters_change'>Population parameter change</a></td><td>population=-1, initial_size=11537.399183494594</td><td>initial_size → 1.2e+04 for all populations</td></tr></tbody></table></div></div></details><details open=\"true\"><summary>Epoch[1]: [4.72e+03, 3.96e+04) generations</summary><div style=\"margin-left:20px\"><div><style scoped=\"\">\n",
       "            .tskit-table thead tr th:only-of-type {vertical-align: middle;}\n",
       "            .tskit-table thead tr th {text-align: center;vertical-align: top;}\n",
       "            .tskit-table tbody td {text-align: right;padding: 0.5em 0.5em;}\n",
       "            .tskit-table tbody th {padding: 0.5em 0.5em;}\n",
       "        </style><b>Populations (total=1 active=1)</b><table border=\"1\" class=\"tskit-table\"><thead><tr><th></th><th>start</th><th>end</th><th>growth_rate</th></tr></thead><tbody><tr><td>A</td><td> 11537.4</td><td> 11537.4</td><td> 0</td></tr></tbody></table></div><div><style scoped=\"\">\n",
       "            .tskit-table thead tr th:only-of-type {vertical-align: middle;}\n",
       "            .tskit-table thead tr th {text-align: center;vertical-align: top;}\n",
       "            .tskit-table tbody td {text-align: right;padding: 0.5em 0.5em;}\n",
       "            .tskit-table tbody th {padding: 0.5em 0.5em;}\n",
       "        </style><b>Events @ generation 3.96e+04</b><table border=\"1\" class=\"tskit-table\"><thead><tr><th>time</th><th>type</th><th>parameters</th><th>effect</th></tr></thead><tbody><tr><td>3.958e+04</td><td><a href='https://tskit.dev/msprime/docs/latest/api.html#msprime.Demography.add_population_parameters_change'>Population parameter change</a></td><td>population=-1, initial_size=9716.06411125586</td><td>initial_size → 9.7e+03 for all populations</td></tr></tbody></table></div></div></details><details open=\"true\"><summary>Epoch[2]: [3.96e+04, inf) generations</summary><div style=\"margin-left:20px\"><div><style scoped=\"\">\n",
       "            .tskit-table thead tr th:only-of-type {vertical-align: middle;}\n",
       "            .tskit-table thead tr th {text-align: center;vertical-align: top;}\n",
       "            .tskit-table tbody td {text-align: right;padding: 0.5em 0.5em;}\n",
       "            .tskit-table tbody th {padding: 0.5em 0.5em;}\n",
       "        </style><b>Populations (total=1 active=1)</b><table border=\"1\" class=\"tskit-table\"><thead><tr><th></th><th>start</th><th>end</th><th>growth_rate</th></tr></thead><tbody><tr><td>A</td><td> 9716.1</td><td> 9716.1</td><td> 0</td></tr></tbody></table></div></div></details></div>"
      ],
      "text/plain": [
       "<msprime.demography.DemographyDebugger at 0x1143b25e0>"
      ]
     },
     "execution_count": 34,
     "metadata": {},
     "output_type": "execute_result"
    }
   ],
   "source": [
    "# случайне события - генерятся\n",
    "random_demography = generate_demographic_events()\n",
    "random_demography.debug()"
   ]
  },
  {
   "cell_type": "code",
   "execution_count": 35,
   "metadata": {},
   "outputs": [
    {
     "data": {
      "text/html": [
       "<div><details open=\"true\"><summary>Epoch[0]: [0, 5.28e+03) generations</summary><div style=\"margin-left:20px\"><div><style scoped=\"\">\n",
       "            .tskit-table thead tr th:only-of-type {vertical-align: middle;}\n",
       "            .tskit-table thead tr th {text-align: center;vertical-align: top;}\n",
       "            .tskit-table tbody td {text-align: right;padding: 0.5em 0.5em;}\n",
       "            .tskit-table tbody th {padding: 0.5em 0.5em;}\n",
       "        </style><b>Populations (total=1 active=1)</b><table border=\"1\" class=\"tskit-table\"><thead><tr><th></th><th>start</th><th>end</th><th>growth_rate</th></tr></thead><tbody><tr><td>A</td><td> 10000.0</td><td> 10000.0</td><td> 0</td></tr></tbody></table></div><div><style scoped=\"\">\n",
       "            .tskit-table thead tr th:only-of-type {vertical-align: middle;}\n",
       "            .tskit-table thead tr th {text-align: center;vertical-align: top;}\n",
       "            .tskit-table tbody td {text-align: right;padding: 0.5em 0.5em;}\n",
       "            .tskit-table tbody th {padding: 0.5em 0.5em;}\n",
       "        </style><b>Events @ generation 5.28e+03</b><table border=\"1\" class=\"tskit-table\"><thead><tr><th>time</th><th>type</th><th>parameters</th><th>effect</th></tr></thead><tbody><tr><td>5277</td><td><a href='https://tskit.dev/msprime/docs/latest/api.html#msprime.Demography.add_population_parameters_change'>Population parameter change</a></td><td>population=-1, initial_size=13091.050776132706</td><td>initial_size → 1.3e+04 for all populations</td></tr></tbody></table></div></div></details><details open=\"true\"><summary>Epoch[1]: [5.28e+03, inf) generations</summary><div style=\"margin-left:20px\"><div><style scoped=\"\">\n",
       "            .tskit-table thead tr th:only-of-type {vertical-align: middle;}\n",
       "            .tskit-table thead tr th {text-align: center;vertical-align: top;}\n",
       "            .tskit-table tbody td {text-align: right;padding: 0.5em 0.5em;}\n",
       "            .tskit-table tbody th {padding: 0.5em 0.5em;}\n",
       "        </style><b>Populations (total=1 active=1)</b><table border=\"1\" class=\"tskit-table\"><thead><tr><th></th><th>start</th><th>end</th><th>growth_rate</th></tr></thead><tbody><tr><td>A</td><td> 13091.1</td><td> 13091.1</td><td> 0</td></tr></tbody></table></div></div></details></div>"
      ],
      "text/plain": [
       "<msprime.demography.DemographyDebugger at 0x14883dbe0>"
      ]
     },
     "execution_count": 35,
     "metadata": {},
     "output_type": "execute_result"
    }
   ],
   "source": [
    "random_demography = generate_demographic_events()\n",
    "random_demography.debug()"
   ]
  },
  {
   "cell_type": "code",
   "execution_count": 36,
   "metadata": {},
   "outputs": [
    {
     "data": {
      "text/html": [
       "<div><details open=\"true\"><summary>Epoch[0]: [0, 360) generations</summary><div style=\"margin-left:20px\"><div><style scoped=\"\">\n",
       "            .tskit-table thead tr th:only-of-type {vertical-align: middle;}\n",
       "            .tskit-table thead tr th {text-align: center;vertical-align: top;}\n",
       "            .tskit-table tbody td {text-align: right;padding: 0.5em 0.5em;}\n",
       "            .tskit-table tbody th {padding: 0.5em 0.5em;}\n",
       "        </style><b>Populations (total=1 active=1)</b><table border=\"1\" class=\"tskit-table\"><thead><tr><th></th><th>start</th><th>end</th><th>growth_rate</th></tr></thead><tbody><tr><td>A</td><td> 10000.0</td><td> 10000.0</td><td> 0</td></tr></tbody></table></div><div><style scoped=\"\">\n",
       "            .tskit-table thead tr th:only-of-type {vertical-align: middle;}\n",
       "            .tskit-table thead tr th {text-align: center;vertical-align: top;}\n",
       "            .tskit-table tbody td {text-align: right;padding: 0.5em 0.5em;}\n",
       "            .tskit-table tbody th {padding: 0.5em 0.5em;}\n",
       "        </style><b>Events @ generation 360</b><table border=\"1\" class=\"tskit-table\"><thead><tr><th>time</th><th>type</th><th>parameters</th><th>effect</th></tr></thead><tbody><tr><td>360.3</td><td><a href='https://tskit.dev/msprime/docs/latest/api.html#msprime.Demography.add_population_parameters_change'>Population parameter change</a></td><td>population=-1, initial_size=9075.402672831973</td><td>initial_size → 9.1e+03 for all populations</td></tr></tbody></table></div></div></details><details open=\"true\"><summary>Epoch[1]: [360, 1.16e+03) generations</summary><div style=\"margin-left:20px\"><div><style scoped=\"\">\n",
       "            .tskit-table thead tr th:only-of-type {vertical-align: middle;}\n",
       "            .tskit-table thead tr th {text-align: center;vertical-align: top;}\n",
       "            .tskit-table tbody td {text-align: right;padding: 0.5em 0.5em;}\n",
       "            .tskit-table tbody th {padding: 0.5em 0.5em;}\n",
       "        </style><b>Populations (total=1 active=1)</b><table border=\"1\" class=\"tskit-table\"><thead><tr><th></th><th>start</th><th>end</th><th>growth_rate</th></tr></thead><tbody><tr><td>A</td><td> 9075.4</td><td> 9075.4</td><td> 0</td></tr></tbody></table></div><div><style scoped=\"\">\n",
       "            .tskit-table thead tr th:only-of-type {vertical-align: middle;}\n",
       "            .tskit-table thead tr th {text-align: center;vertical-align: top;}\n",
       "            .tskit-table tbody td {text-align: right;padding: 0.5em 0.5em;}\n",
       "            .tskit-table tbody th {padding: 0.5em 0.5em;}\n",
       "        </style><b>Events @ generation 1.16e+03</b><table border=\"1\" class=\"tskit-table\"><thead><tr><th>time</th><th>type</th><th>parameters</th><th>effect</th></tr></thead><tbody><tr><td>1155</td><td><a href='https://tskit.dev/msprime/docs/latest/api.html#msprime.Demography.add_population_parameters_change'>Population parameter change</a></td><td>population=-1, initial_size=10515.993489936878</td><td>initial_size → 1.1e+04 for all populations</td></tr></tbody></table></div></div></details><details open=\"true\"><summary>Epoch[2]: [1.16e+03, 5.46e+03) generations</summary><div style=\"margin-left:20px\"><div><style scoped=\"\">\n",
       "            .tskit-table thead tr th:only-of-type {vertical-align: middle;}\n",
       "            .tskit-table thead tr th {text-align: center;vertical-align: top;}\n",
       "            .tskit-table tbody td {text-align: right;padding: 0.5em 0.5em;}\n",
       "            .tskit-table tbody th {padding: 0.5em 0.5em;}\n",
       "        </style><b>Populations (total=1 active=1)</b><table border=\"1\" class=\"tskit-table\"><thead><tr><th></th><th>start</th><th>end</th><th>growth_rate</th></tr></thead><tbody><tr><td>A</td><td> 10516.0</td><td> 10516.0</td><td> 0</td></tr></tbody></table></div><div><style scoped=\"\">\n",
       "            .tskit-table thead tr th:only-of-type {vertical-align: middle;}\n",
       "            .tskit-table thead tr th {text-align: center;vertical-align: top;}\n",
       "            .tskit-table tbody td {text-align: right;padding: 0.5em 0.5em;}\n",
       "            .tskit-table tbody th {padding: 0.5em 0.5em;}\n",
       "        </style><b>Events @ generation 5.46e+03</b><table border=\"1\" class=\"tskit-table\"><thead><tr><th>time</th><th>type</th><th>parameters</th><th>effect</th></tr></thead><tbody><tr><td>5458</td><td><a href='https://tskit.dev/msprime/docs/latest/api.html#msprime.Demography.add_population_parameters_change'>Population parameter change</a></td><td>population=-1, initial_size=12246.66741259793</td><td>initial_size → 1.2e+04 for all populations</td></tr></tbody></table></div></div></details><details open=\"true\"><summary>Epoch[3]: [5.46e+03, 9.71e+03) generations</summary><div style=\"margin-left:20px\"><div><style scoped=\"\">\n",
       "            .tskit-table thead tr th:only-of-type {vertical-align: middle;}\n",
       "            .tskit-table thead tr th {text-align: center;vertical-align: top;}\n",
       "            .tskit-table tbody td {text-align: right;padding: 0.5em 0.5em;}\n",
       "            .tskit-table tbody th {padding: 0.5em 0.5em;}\n",
       "        </style><b>Populations (total=1 active=1)</b><table border=\"1\" class=\"tskit-table\"><thead><tr><th></th><th>start</th><th>end</th><th>growth_rate</th></tr></thead><tbody><tr><td>A</td><td> 12246.7</td><td> 12246.7</td><td> 0</td></tr></tbody></table></div><div><style scoped=\"\">\n",
       "            .tskit-table thead tr th:only-of-type {vertical-align: middle;}\n",
       "            .tskit-table thead tr th {text-align: center;vertical-align: top;}\n",
       "            .tskit-table tbody td {text-align: right;padding: 0.5em 0.5em;}\n",
       "            .tskit-table tbody th {padding: 0.5em 0.5em;}\n",
       "        </style><b>Events @ generation 9.71e+03</b><table border=\"1\" class=\"tskit-table\"><thead><tr><th>time</th><th>type</th><th>parameters</th><th>effect</th></tr></thead><tbody><tr><td>9705</td><td><a href='https://tskit.dev/msprime/docs/latest/api.html#msprime.Demography.add_population_parameters_change'>Population parameter change</a></td><td>population=-1, initial_size=16968.90883643187</td><td>initial_size → 1.7e+04 for all populations</td></tr></tbody></table></div></div></details><details open=\"true\"><summary>Epoch[4]: [9.71e+03, 1.31e+04) generations</summary><div style=\"margin-left:20px\"><div><style scoped=\"\">\n",
       "            .tskit-table thead tr th:only-of-type {vertical-align: middle;}\n",
       "            .tskit-table thead tr th {text-align: center;vertical-align: top;}\n",
       "            .tskit-table tbody td {text-align: right;padding: 0.5em 0.5em;}\n",
       "            .tskit-table tbody th {padding: 0.5em 0.5em;}\n",
       "        </style><b>Populations (total=1 active=1)</b><table border=\"1\" class=\"tskit-table\"><thead><tr><th></th><th>start</th><th>end</th><th>growth_rate</th></tr></thead><tbody><tr><td>A</td><td> 16968.9</td><td> 16968.9</td><td> 0</td></tr></tbody></table></div><div><style scoped=\"\">\n",
       "            .tskit-table thead tr th:only-of-type {vertical-align: middle;}\n",
       "            .tskit-table thead tr th {text-align: center;vertical-align: top;}\n",
       "            .tskit-table tbody td {text-align: right;padding: 0.5em 0.5em;}\n",
       "            .tskit-table tbody th {padding: 0.5em 0.5em;}\n",
       "        </style><b>Events @ generation 1.31e+04</b><table border=\"1\" class=\"tskit-table\"><thead><tr><th>time</th><th>type</th><th>parameters</th><th>effect</th></tr></thead><tbody><tr><td>1.313e+04</td><td><a href='https://tskit.dev/msprime/docs/latest/api.html#msprime.Demography.add_population_parameters_change'>Population parameter change</a></td><td>population=-1, initial_size=19743.598904843955</td><td>initial_size → 2e+04 for all populations</td></tr></tbody></table></div></div></details><details open=\"true\"><summary>Epoch[5]: [1.31e+04, 4.65e+04) generations</summary><div style=\"margin-left:20px\"><div><style scoped=\"\">\n",
       "            .tskit-table thead tr th:only-of-type {vertical-align: middle;}\n",
       "            .tskit-table thead tr th {text-align: center;vertical-align: top;}\n",
       "            .tskit-table tbody td {text-align: right;padding: 0.5em 0.5em;}\n",
       "            .tskit-table tbody th {padding: 0.5em 0.5em;}\n",
       "        </style><b>Populations (total=1 active=1)</b><table border=\"1\" class=\"tskit-table\"><thead><tr><th></th><th>start</th><th>end</th><th>growth_rate</th></tr></thead><tbody><tr><td>A</td><td> 19743.6</td><td> 19743.6</td><td> 0</td></tr></tbody></table></div><div><style scoped=\"\">\n",
       "            .tskit-table thead tr th:only-of-type {vertical-align: middle;}\n",
       "            .tskit-table thead tr th {text-align: center;vertical-align: top;}\n",
       "            .tskit-table tbody td {text-align: right;padding: 0.5em 0.5em;}\n",
       "            .tskit-table tbody th {padding: 0.5em 0.5em;}\n",
       "        </style><b>Events @ generation 4.65e+04</b><table border=\"1\" class=\"tskit-table\"><thead><tr><th>time</th><th>type</th><th>parameters</th><th>effect</th></tr></thead><tbody><tr><td>4.647e+04</td><td><a href='https://tskit.dev/msprime/docs/latest/api.html#msprime.Demography.add_population_parameters_change'>Population parameter change</a></td><td>population=-1, initial_size=13151.197102901639</td><td>initial_size → 1.3e+04 for all populations</td></tr></tbody></table></div></div></details><details open=\"true\"><summary>Epoch[6]: [4.65e+04, inf) generations</summary><div style=\"margin-left:20px\"><div><style scoped=\"\">\n",
       "            .tskit-table thead tr th:only-of-type {vertical-align: middle;}\n",
       "            .tskit-table thead tr th {text-align: center;vertical-align: top;}\n",
       "            .tskit-table tbody td {text-align: right;padding: 0.5em 0.5em;}\n",
       "            .tskit-table tbody th {padding: 0.5em 0.5em;}\n",
       "        </style><b>Populations (total=1 active=1)</b><table border=\"1\" class=\"tskit-table\"><thead><tr><th></th><th>start</th><th>end</th><th>growth_rate</th></tr></thead><tbody><tr><td>A</td><td> 13151.2</td><td> 13151.2</td><td> 0</td></tr></tbody></table></div></div></details></div>"
      ],
      "text/plain": [
       "<msprime.demography.DemographyDebugger at 0x1127574f0>"
      ]
     },
     "execution_count": 36,
     "metadata": {},
     "output_type": "execute_result"
    }
   ],
   "source": [
    "random_demography = generate_demographic_events()\n",
    "random_demography.debug()"
   ]
  },
  {
   "cell_type": "code",
   "execution_count": null,
   "metadata": {},
   "outputs": [],
   "source": []
  }
 ],
 "metadata": {
  "kernelspec": {
   "display_name": "Python 3",
   "language": "python",
   "name": "python3"
  },
  "language_info": {
   "codemirror_mode": {
    "name": "ipython",
    "version": 3
   },
   "file_extension": ".py",
   "mimetype": "text/x-python",
   "name": "python",
   "nbconvert_exporter": "python",
   "pygments_lexer": "ipython3",
   "version": "3.8.5"
  }
 },
 "nbformat": 4,
 "nbformat_minor": 4
}
