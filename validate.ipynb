{
 "cells": [
  {
   "cell_type": "code",
   "execution_count": 6,
   "metadata": {},
   "outputs": [],
   "source": [
    "import os\n",
    "import sys\n",
    "import json\n",
    "import time as tl\n",
    "from math import (exp, log)\n",
    "\n",
    "import msprime\n",
    "import numpy as np\n",
    "# import torch\n",
    "\n",
    "RHO_LIMIT = (1.6*10e-8, 1.6*10e-10)\n",
    "MU_LIMIT = (1.25*10e-9, 1.25*10e-7)\n",
    "\n",
    "LENGTH_NORMALIZE_CONST = 4\n",
    "ZIPPED = False\n",
    "NUMBER_OF_EVENTS_LIMITS = (1, 20)\n",
    "MAX_T_LIMITS = (0.01, 50)\n",
    "LAMBDA_EXP = 1000\n",
    "POPULATION_LIMITS = (250, 100000)\n",
    "POPULATION = 5000\n",
    "\n",
    "N = 20\n",
    "\n",
    "RANDOM_SEED = 42\n",
    "np.random.seed(RANDOM_SEED)\n",
    "\n",
    "\n",
    "L_HUMAN = 3_000_000\n",
    "RHO_HUMAN = 1.6*10e-9\n",
    "MU_HUMAN = 1.25*10e-8\n",
    "\n",
    "RHO_LIMIT = (1.6*10e-10, 1.6*10e-8)\n",
    "MU_LIMIT = (1.25*10e-7, 1.25*10e-9)\n",
    "\n",
    "NUMBER_OF_EVENTS_LIMITS = (1, 20)\n",
    "LAMBDA_EXP = 20_000\n",
    "\n",
    "POPULATION = 10_000\n",
    "POPULATION_COEFF_LIMITS = (0.5, 1.5)\n",
    "MIN_POPULATION_NUM = 1_000\n",
    "\n",
    "\n",
    "def give_rho() -> float:\n",
    "    return np.random.uniform(*RHO_LIMIT)\n",
    "\n",
    "\n",
    "def give_mu() -> float:\n",
    "    return np.random.uniform(*MU_LIMIT)\n",
    "\n",
    "\n",
    "def give_random_coeff(mean=.128, var=.05) -> float:\n",
    "    return np.random.beta(.1, .028)*.0128\n",
    "\n",
    "\n",
    "def give_random_rho(base=RHO_HUMAN) -> float:\n",
    "    return np.random.uniform(0.0001, 100, 1)[0]*base\n",
    "\n",
    "\n",
    "def generate_demographic_events(population: int = POPULATION) -> 'msprime.Demography':\n",
    "    demography = msprime.Demography()\n",
    "    demography.add_population(name=\"A\", initial_size=population)\n",
    "\n",
    "    number_of_events = np.random.randint(*NUMBER_OF_EVENTS_LIMITS)\n",
    "\n",
    "    times = sorted(np.random.exponential(LAMBDA_EXP, size=number_of_events))\n",
    "\n",
    "    last_population_size = population\n",
    "    for t in times:\n",
    "        last_population_size = max(last_population_size * np.random.uniform(*POPULATION_COEFF_LIMITS),\n",
    "                                   MIN_POPULATION_NUM)\n",
    "        demography.add_population_parameters_change(\n",
    "            t, initial_size=last_population_size)\n",
    "\n",
    "    return demography\n",
    "\n",
    "\n",
    "class arg:\n",
    "    population = 5000.0\n",
    "    rho = RHO_HUMAN\n",
    "    mu = MU_HUMAN\n",
    "    # num_repl = 1\n",
    "    # l = 300\n",
    "    num_repl = 1\n",
    "    lengt = L_HUMAN\n",
    "    ratio_train_examples = 0.9\n",
    "    random_seed = 142\n",
    "    model = \"hudson\"\n",
    "    sample_size = 2\n",
    "    demographic_events = generate_demographic_events()\n",
    "\n",
    "\n",
    "def simple_split(time: float, N: int, split_const: int = 5000) -> int:\n",
    "    return int(min(time//split_const, N-1))\n",
    "\n",
    "\n",
    "class DataGenerator():\n",
    "    def __init__(self,\n",
    "                 recombination_rate: float = RHO_HUMAN,\n",
    "                 mutation_rate: float = MU_HUMAN,\n",
    "                 demographic_events: list = None,\n",
    "                 population: int = None,\n",
    "                 number_intervals: int = N,\n",
    "                 splitter=simple_split,  # maust be annotiede\n",
    "                 num_replicates: int = 1,\n",
    "                 lengt: int = L_HUMAN,\n",
    "                 model: str = \"hudson\",\n",
    "                 random_seed: int = 42,\n",
    "                 sample_size: int = 1,\n",
    "                 ):\n",
    "\n",
    "        self.sample_size = sample_size\n",
    "        self.recombination_rate = recombination_rate\n",
    "        self.mutation_rate = mutation_rate\n",
    "        self.num_replicates = num_replicates\n",
    "        if not demographic_events:\n",
    "            if not population:\n",
    "                raise BaseException(\n",
    "                    \"Eiter demographic_events or population must be speciefied\")\n",
    "            demographic_events = msprime.Demography()\n",
    "            demographic_events.add_population(\n",
    "                name=\"A\", initial_size=population)\n",
    "        self.demographic_events = demographic_events\n",
    "        self.splitter = splitter\n",
    "        self.model = model\n",
    "        self.len = lengt\n",
    "        self.random_seed = random_seed\n",
    "        self.number_intervals = number_intervals\n",
    "        self._data = None\n",
    "\n",
    "    def run_simulation(self):\n",
    "        \"\"\"\n",
    "        return generator(tskit.TreeSequence)\n",
    "        function run the simulation with given parametrs\n",
    "        \"\"\"\n",
    "        self._data = msprime.sim_ancestry(\n",
    "            recombination_rate=self.recombination_rate,\n",
    "            sequence_length=self.len,\n",
    "            num_replicates=self.num_replicates,\n",
    "            demography=self.demographic_events,\n",
    "            model=self.model,\n",
    "            random_seed=self.random_seed,\n",
    "            samples=self.sample_size)\n",
    "        return self._data\n",
    "\n",
    "    def __iter__(self):\n",
    "        return self\n",
    "\n",
    "    def __next__(self):\n",
    "        \"\"\"\n",
    "        return haplotype, recombination points and coalescent time\n",
    "        \"\"\"\n",
    "        if self._data is None:\n",
    "            self.run_simulation()\n",
    "\n",
    "        try:\n",
    "            tree = next(self._data)\n",
    "        except StopIteration:\n",
    "            raise StopIteration\n",
    "\n",
    "        mutated_ts = msprime.sim_mutations(\n",
    "            tree, rate=self.mutation_rate)  # random_seed\n",
    "\n",
    "        times = [0]*self.len\n",
    "        mutations = [0]*self.len\n",
    "        prior_dist = [0.0]*self.number_intervals\n",
    "\n",
    "        for m in mutated_ts.mutations():\n",
    "            mutations[int(m.position)] = 1\n",
    "\n",
    "        for t in mutated_ts.aslist():\n",
    "            interval = t.get_interval()\n",
    "            left = interval.left\n",
    "            right = interval.right\n",
    "            time = t.get_total_branch_length()/2\n",
    "            times[int(left):int(right)] = [time]*int(right-left)\n",
    "            prior_dist[self.splitter(\n",
    "                time, self.number_intervals)] += (int(right-left))/self.len\n",
    "\n",
    "        return mutations, times, prior_dist"
   ]
  },
  {
   "cell_type": "code",
   "execution_count": 9,
   "metadata": {},
   "outputs": [],
   "source": [
    "dem = generate_demographic_events()"
   ]
  },
  {
   "cell_type": "code",
   "execution_count": 16,
   "metadata": {},
   "outputs": [
    {
     "data": {
      "text/html": [
       "<div style=\"margin-left:20px\"><div><style scoped=\"\">\n",
       "            .tskit-table thead tr th:only-of-type {vertical-align: middle;}\n",
       "            .tskit-table thead tr th {text-align: center;vertical-align: top;}\n",
       "            .tskit-table tbody td {text-align: right;padding: 0.5em 0.5em;}\n",
       "            .tskit-table tbody th {padding: 0.5em 0.5em;}\n",
       "        </style><b>Populations (1)</b><table border=\"1\" class=\"tskit-table\"><thead><tr><th>id</th><th>name</th><th>description</th><th>initial_size</th><th>growth_rate</th><th>default_sampling_time</th><th>extra_metadata</th></tr></thead><tbody><tr><td>0</td><td>A</td><td></td><td>10000.0</td><td>0</td><td>0</td><td>{}</td></tr></tbody></table></div><div><style scoped=\"\">\n",
       "            .tskit-table thead tr th:only-of-type {vertical-align: middle;}\n",
       "            .tskit-table thead tr th {text-align: center;vertical-align: top;}\n",
       "            .tskit-table tbody td {text-align: right;padding: 0.5em 0.5em;}\n",
       "            .tskit-table tbody th {padding: 0.5em 0.5em;}\n",
       "        </style><b>Migration matrix (all zero)</b><table border=\"1\" class=\"tskit-table\"><thead><tr></tr></thead><tbody></tbody></table></div><div><style scoped=\"\">\n",
       "            .tskit-table thead tr th:only-of-type {vertical-align: middle;}\n",
       "            .tskit-table thead tr th {text-align: center;vertical-align: top;}\n",
       "            .tskit-table tbody td {text-align: right;padding: 0.5em 0.5em;}\n",
       "            .tskit-table tbody th {padding: 0.5em 0.5em;}\n",
       "        </style><b>Events (12)</b><table border=\"1\" class=\"tskit-table\"><thead><tr><th>time</th><th>type</th><th>parameters</th><th>effect</th></tr></thead><tbody><tr><td>466.7</td><td><a href='https://tskit.dev/msprime/docs/latest/api.html#msprime.Demography.add_population_parameters_change'>Population parameter change</a></td><td>population=-1, initial_size=11803.075385877797</td><td>initial_size → 1.2e+04 for all populations</td></tr><tr><td>955.8</td><td><a href='https://tskit.dev/msprime/docs/latest/api.html#msprime.Demography.add_population_parameters_change'>Population parameter change</a></td><td>population=-1, initial_size=11218.81432521697</td><td>initial_size → 1.1e+04 for all populations</td></tr><tr><td>1900</td><td><a href='https://tskit.dev/msprime/docs/latest/api.html#msprime.Demography.add_population_parameters_change'>Population parameter change</a></td><td>population=-1, initial_size=5758.224298892243</td><td>initial_size → 5.8e+03 for all populations</td></tr><tr><td>5299</td><td><a href='https://tskit.dev/msprime/docs/latest/api.html#msprime.Demography.add_population_parameters_change'>Population parameter change</a></td><td>population=-1, initial_size=8304.521193489572</td><td>initial_size → 8.3e+03 for all populations</td></tr><tr><td>9640</td><td><a href='https://tskit.dev/msprime/docs/latest/api.html#msprime.Demography.add_population_parameters_change'>Population parameter change</a></td><td>population=-1, initial_size=8830.09953988604</td><td>initial_size → 8.8e+03 for all populations</td></tr><tr><td>1.021e+04</td><td><a href='https://tskit.dev/msprime/docs/latest/api.html#msprime.Demography.add_population_parameters_change'>Population parameter change</a></td><td>population=-1, initial_size=7818.31585168522</td><td>initial_size → 7.8e+03 for all populations</td></tr><tr><td>1.258e+04</td><td><a href='https://tskit.dev/msprime/docs/latest/api.html#msprime.Demography.add_population_parameters_change'>Population parameter change</a></td><td>population=-1, initial_size=4033.987128667915</td><td>initial_size → 4e+03 for all populations</td></tr><tr><td>1.488e+04</td><td><a href='https://tskit.dev/msprime/docs/latest/api.html#msprime.Demography.add_population_parameters_change'>Population parameter change</a></td><td>population=-1, initial_size=2948.4162849826007</td><td>initial_size → 2.9e+03 for all populations</td></tr><tr><td>1.927e+04</td><td><a href='https://tskit.dev/msprime/docs/latest/api.html#msprime.Demography.add_population_parameters_change'>Population parameter change</a></td><td>population=-1, initial_size=2184.8515516179136</td><td>initial_size → 2.2e+03 for all populations</td></tr><tr><td>3.931e+04</td><td><a href='https://tskit.dev/msprime/docs/latest/api.html#msprime.Demography.add_population_parameters_change'>Population parameter change</a></td><td>population=-1, initial_size=2585.255135078675</td><td>initial_size → 2.6e+03 for all populations</td></tr><tr><td>7.281e+04</td><td><a href='https://tskit.dev/msprime/docs/latest/api.html#msprime.Demography.add_population_parameters_change'>Population parameter change</a></td><td>population=-1, initial_size=2869.6245594526877</td><td>initial_size → 2.9e+03 for all populations</td></tr><tr><td>8.176e+04</td><td><a href='https://tskit.dev/msprime/docs/latest/api.html#msprime.Demography.add_population_parameters_change'>Population parameter change</a></td><td>population=-1, initial_size=3825.7688612554552</td><td>initial_size → 3.8e+03 for all populations</td></tr></tbody></table></div></div>"
      ],
      "text/plain": [
       "Demography(populations=[Population(initial_size=10000, growth_rate=0, name='A', description='', extra_metadata={}, default_sampling_time=None, initially_active=None, id=0)], events=[PopulationParametersChange(time=466.65047196646776, initial_size=11803.075385877797, growth_rate=None, population=-1), PopulationParametersChange(time=955.7922252754352, initial_size=11218.81432521697, growth_rate=None, population=-1), PopulationParametersChange(time=1899.5462639332889, initial_size=5758.224298892243, growth_rate=None, population=-1), PopulationParametersChange(time=5299.408001000487, initial_size=8304.521193489572, growth_rate=None, population=-1), PopulationParametersChange(time=9640.293195410071, initial_size=8830.09953988604, growth_rate=None, population=-1), PopulationParametersChange(time=10211.878735991624, initial_size=7818.31585168522, growth_rate=None, population=-1), PopulationParametersChange(time=12575.78201081712, initial_size=4033.987128667915, growth_rate=None, population=-1), PopulationParametersChange(time=14879.323759666378, initial_size=2948.4162849826007, growth_rate=None, population=-1), PopulationParametersChange(time=19266.91353813664, initial_size=2184.8515516179136, growth_rate=None, population=-1), PopulationParametersChange(time=39313.745615476735, initial_size=2585.255135078675, growth_rate=None, population=-1), PopulationParametersChange(time=72805.9910725552, initial_size=2869.6245594526877, growth_rate=None, population=-1), PopulationParametersChange(time=81764.33050919391, initial_size=3825.7688612554552, growth_rate=None, population=-1)], migration_matrix=array([[0.]]))"
      ]
     },
     "execution_count": 16,
     "metadata": {},
     "output_type": "execute_result"
    }
   ],
   "source": [
    "dem"
   ]
  },
  {
   "cell_type": "code",
   "execution_count": 15,
   "metadata": {},
   "outputs": [
    {
     "data": {
      "image/png": "[encoded data removed]",
      "text/plain": [
       "<Figure size 432x288 with 1 Axes>"
      ]
     },
     "metadata": {
      "needs_background": "light"
     },
     "output_type": "display_data"
    }
   ],
   "source": [
    "import matplotlib.pyplot as plt\n",
    "\n",
    "debug = dem.debug()\n",
    "\n",
    "t = np.linspace(0, 100_000, num=20)\n",
    "S = debug.population_size_trajectory(t)\n",
    "plt.plot(t, S, label=\"Population\")\n",
    "plt.xlabel(\"Time ago\")\n",
    "plt.ylabel(\"Population size\")\n",
    "plt.legend();"
   ]
  },
  {
   "cell_type": "code",
   "execution_count": 18,
   "metadata": {},
   "outputs": [
    {
     "name": "stdout",
     "output_type": "stream",
     "text": [
      "Path: -f\n",
      "Num_model: 1\n",
      "Num replicates: /Users/evgen97/Library/Jupyter/runtime/kernel-f7af6c8a-23ea-428a-8728-06bdab89c58d.json\n",
      "0\n"
     ]
    }
   ],
   "source": [
    "num_model = 1\n",
    "x_path = os.path.join(\"val_data\", \"x\")\n",
    "y_path = os.path.join(\"val_data\", \"y\")\n",
    "pd_path = os.path.join(\"val_data\", \"PD\")\n",
    "\n",
    "name = 1\n",
    "print(f'Path: {sys.argv[1]}')\n",
    "print(f\"Num_model: {num_model}\")\n",
    "print(f\"Num replicates: {sys.argv[2]}\")\n",
    "for j in range(num_model):\n",
    "    generator = DataGenerator(\n",
    "        demographic_events=dem,\n",
    "        num_replicates=1\n",
    "    )\n",
    "    generator.run_simulation()\n",
    "    # return mutations, times, None, prior_dist, None\n",
    "    for x, y, t in generator:\n",
    "        print(name)\n",
    "        x = np.array(x, dtype=np.int64)\n",
    "        y = np.array(y)\n",
    "        pd = np.array(t)\n",
    "\n",
    "        np.save(x_path + \"/\" + str(name), x)\n",
    "        np.save(y_path + \"/\" + str(name), y)\n",
    "        np.save(pd_path + \"/\" + str(name), pd)\n",
    "        name += 1"
   ]
  },
  {
   "cell_type": "code",
   "execution_count": 19,
   "metadata": {},
   "outputs": [
    {
     "name": "stdout",
     "output_type": "stream",
     "text": [
      "1\n"
     ]
    }
   ],
   "source": [
    "for j in range(num_model):\n",
    "    generator = DataGenerator(\n",
    "        demographic_events=dem,\n",
    "        num_replicates=1\n",
    "    )\n",
    "    generator.run_simulation()\n",
    "    # return mutations, times, None, prior_dist, None\n",
    "    for x, y, t in generator:\n",
    "        print(name)\n",
    "        x = np.array(x, dtype=np.int64)\n",
    "        y = np.array(y)\n",
    "        pd = np.array(t)\n",
    "        name += 1"
   ]
  },
  {
   "cell_type": "code",
   "execution_count": 21,
   "metadata": {},
   "outputs": [
    {
     "data": {
      "text/plain": [
       "20"
      ]
     },
     "execution_count": 21,
     "metadata": {},
     "output_type": "execute_result"
    }
   ],
   "source": [
    "len(pd)"
   ]
  },
  {
   "cell_type": "code",
   "execution_count": null,
   "metadata": {},
   "outputs": [],
   "source": []
  },
  {
   "cell_type": "markdown",
   "metadata": {},
   "source": [
    "$\n",
    "T = e^{ct} \\\\\n",
    "ct = \\log{T} \\\\\n",
    "c = \\frac{\\log{T_{max}}}{N-1}\n",
    "$"
   ]
  },
  {
   "cell_type": "code",
   "execution_count": null,
   "metadata": {},
   "outputs": [],
   "source": []
  },
  {
   "cell_type": "code",
   "execution_count": null,
   "metadata": {},
   "outputs": [],
   "source": []
  },
  {
   "cell_type": "markdown",
   "metadata": {},
   "source": [
    "# Новая разбивка"
   ]
  },
  {
   "cell_type": "code",
   "execution_count": 106,
   "metadata": {},
   "outputs": [
    {
     "name": "stdout",
     "output_type": "stream",
     "text": [
      "[1.0, 1.97172009536563, 3.8876801344686487, 7.665417045485589, 15.114056827942171, 29.800689570151686, 58.75861848122102, 115.85554883534577, 228.43471379826536, 450.40931567513616, 888.0810988565476, 1751.0473489298454, 3452.575245821688, 6807.511992948546, 13422.508195939188, 26465.429140143187, 52182.418468095406, 102889.12311832218, 202868.55164694443, 400000.0000000009]\n"
     ]
    }
   ],
   "source": [
    "T_max = 400_000\n",
    "N = 20\n",
    "coeff = np.log(T_max)/(N-1)\n",
    "\n",
    "limits = [np.exp(coeff*i) for i in range(N)]\n",
    "\n",
    "print(limits)\n",
    "\n",
    "def exponent_split(time: float, N: int) -> int:\n",
    "    for i, limit in enumerate(limits):\n",
    "        if limit > time:\n",
    "            return i\n",
    "    return N-1 "
   ]
  },
  {
   "cell_type": "code",
   "execution_count": 102,
   "metadata": {},
   "outputs": [],
   "source": [
    "a = [exponent_split(t, 20) for t in range(420_000)]"
   ]
  },
  {
   "cell_type": "code",
   "execution_count": 105,
   "metadata": {},
   "outputs": [
    {
     "data": {
      "text/plain": [
       "[<matplotlib.lines.Line2D at 0x18e43b340>]"
      ]
     },
     "execution_count": 105,
     "metadata": {},
     "output_type": "execute_result"
    },
    {
     "data": {
      "image/png": "[encoded data removed]",
      "text/plain": [
       "<Figure size 432x288 with 1 Axes>"
      ]
     },
     "metadata": {
      "needs_background": "light"
     },
     "output_type": "display_data"
    }
   ],
   "source": [
    "plt.plot([t for t in range(420_000)], a)"
   ]
  },
  {
   "cell_type": "code",
   "execution_count": 104,
   "metadata": {},
   "outputs": [
    {
     "data": {
      "image/png": "[encoded data removed]",
      "text/plain": [
       "<Figure size 432x288 with 1 Axes>"
      ]
     },
     "metadata": {
      "needs_background": "light"
     },
     "output_type": "display_data"
    }
   ],
   "source": [
    "plt.plot([t for t in range(420_000)], a)\n",
    "plt.xscale(\"log\")"
   ]
  },
  {
   "cell_type": "code",
   "execution_count": 85,
   "metadata": {},
   "outputs": [
    {
     "name": "stdout",
     "output_type": "stream",
     "text": [
      "1.0\n",
      "1.97172009536563\n",
      "3.8876801344686487\n",
      "7.665417045485589\n",
      "15.114056827942171\n",
      "29.800689570151686\n",
      "58.75861848122102\n",
      "115.85554883534577\n",
      "228.43471379826536\n",
      "450.40931567513616\n",
      "888.0810988565476\n",
      "1751.0473489298454\n",
      "3452.575245821688\n",
      "6807.511992948546\n",
      "13422.508195939188\n",
      "26465.429140143187\n",
      "52182.418468095406\n",
      "102889.12311832218\n",
      "202868.55164694443\n",
      "400000.0000000009\n"
     ]
    }
   ],
   "source": [
    "for i in range(N):\n",
    "    print(np.exp(coeff*i))"
   ]
  },
  {
   "cell_type": "code",
   "execution_count": null,
   "metadata": {},
   "outputs": [],
   "source": []
  },
  {
   "cell_type": "markdown",
   "metadata": {},
   "source": [
    "## Новый генератор"
   ]
  },
  {
   "cell_type": "code",
   "execution_count": 162,
   "metadata": {},
   "outputs": [],
   "source": [
    "lambda_exp = 1_000\n",
    "coal_limits = 0.999999999\n",
    "\n",
    "def generate_demographic_events_complex(population: int = POPULATION) -> 'msprime.Demography':\n",
    "    demography = msprime.Demography()\n",
    "    demography.add_population(name=\"A\", initial_size=population)\n",
    "\n",
    "    last_population_size = population\n",
    "    T = 0\n",
    "    coal_probability = 0.0\n",
    "    while coal_probability < coal_limits:\n",
    "\n",
    "        t = np.random.exponential(lambda_exp)\n",
    "        T += t\n",
    "        \n",
    "        last_population_size = max(last_population_size * np.random.uniform(*POPULATION_COEFF_LIMITS),\n",
    "                                   MIN_POPULATION_NUM)\n",
    "\n",
    "        demography.add_population_parameters_change(\n",
    "            T, initial_size=last_population_size)\n",
    "        if coal_probability == 0.0:\n",
    "            coal_probability = (1-np.exp(-t/last_population_size))\n",
    "        else:\n",
    "            coal_probability += coal_limits*(1- np.exp(-t/last_population_size))    \n",
    "    return demography"
   ]
  },
  {
   "cell_type": "code",
   "execution_count": 169,
   "metadata": {},
   "outputs": [
    {
     "data": {
      "text/html": [
       "<div style=\"margin-left:20px\"><div><style scoped=\"\">\n",
       "            .tskit-table thead tr th:only-of-type {vertical-align: middle;}\n",
       "            .tskit-table thead tr th {text-align: center;vertical-align: top;}\n",
       "            .tskit-table tbody td {text-align: right;padding: 0.5em 0.5em;}\n",
       "            .tskit-table tbody th {padding: 0.5em 0.5em;}\n",
       "        </style><b>Populations (1)</b><table border=\"1\" class=\"tskit-table\"><thead><tr><th>id</th><th>name</th><th>description</th><th>initial_size</th><th>growth_rate</th><th>default_sampling_time</th><th>extra_metadata</th></tr></thead><tbody><tr><td>0</td><td>A</td><td></td><td>10000.0</td><td>0</td><td>0</td><td>{}</td></tr></tbody></table></div><div><style scoped=\"\">\n",
       "            .tskit-table thead tr th:only-of-type {vertical-align: middle;}\n",
       "            .tskit-table thead tr th {text-align: center;vertical-align: top;}\n",
       "            .tskit-table tbody td {text-align: right;padding: 0.5em 0.5em;}\n",
       "            .tskit-table tbody th {padding: 0.5em 0.5em;}\n",
       "        </style><b>Migration matrix (all zero)</b><table border=\"1\" class=\"tskit-table\"><thead><tr></tr></thead><tbody></tbody></table></div><div><style scoped=\"\">\n",
       "            .tskit-table thead tr th:only-of-type {vertical-align: middle;}\n",
       "            .tskit-table thead tr th {text-align: center;vertical-align: top;}\n",
       "            .tskit-table tbody td {text-align: right;padding: 0.5em 0.5em;}\n",
       "            .tskit-table tbody th {padding: 0.5em 0.5em;}\n",
       "        </style><b>Events (8)</b><table border=\"1\" class=\"tskit-table\"><thead><tr><th>time</th><th>type</th><th>parameters</th><th>effect</th></tr></thead><tbody><tr><td>933.3</td><td><a href='https://tskit.dev/msprime/docs/latest/api.html#msprime.Demography.add_population_parameters_change'>Population parameter change</a></td><td>population=-1, initial_size=6232.339460298239</td><td>initial_size → 6.2e+03 for all populations</td></tr><tr><td>2571</td><td><a href='https://tskit.dev/msprime/docs/latest/api.html#msprime.Demography.add_population_parameters_change'>Population parameter change</a></td><td>population=-1, initial_size=3985.9503332475247</td><td>initial_size → 4e+03 for all populations</td></tr><tr><td>3089</td><td><a href='https://tskit.dev/msprime/docs/latest/api.html#msprime.Demography.add_population_parameters_change'>Population parameter change</a></td><td>population=-1, initial_size=2168.1296774409334</td><td>initial_size → 2.2e+03 for all populations</td></tr><tr><td>3138</td><td><a href='https://tskit.dev/msprime/docs/latest/api.html#msprime.Demography.add_population_parameters_change'>Population parameter change</a></td><td>population=-1, initial_size=2631.5845069195307</td><td>initial_size → 2.6e+03 for all populations</td></tr><tr><td>3273</td><td><a href='https://tskit.dev/msprime/docs/latest/api.html#msprime.Demography.add_population_parameters_change'>Population parameter change</a></td><td>population=-1, initial_size=2232.573484999948</td><td>initial_size → 2.2e+03 for all populations</td></tr><tr><td>3330</td><td><a href='https://tskit.dev/msprime/docs/latest/api.html#msprime.Demography.add_population_parameters_change'>Population parameter change</a></td><td>population=-1, initial_size=3252.8381337391793</td><td>initial_size → 3.3e+03 for all populations</td></tr><tr><td>3592</td><td><a href='https://tskit.dev/msprime/docs/latest/api.html#msprime.Demography.add_population_parameters_change'>Population parameter change</a></td><td>population=-1, initial_size=3299.126977841448</td><td>initial_size → 3.3e+03 for all populations</td></tr><tr><td>4738</td><td><a href='https://tskit.dev/msprime/docs/latest/api.html#msprime.Demography.add_population_parameters_change'>Population parameter change</a></td><td>population=-1, initial_size=3846.478323330984</td><td>initial_size → 3.8e+03 for all populations</td></tr></tbody></table></div></div>"
      ],
      "text/plain": [
       "Demography(populations=[Population(initial_size=10000, growth_rate=0, name='A', description='', extra_metadata={}, default_sampling_time=None, initially_active=None, id=0)], events=[PopulationParametersChange(time=933.3199275787193, initial_size=6232.339460298239, growth_rate=None, population=-1), PopulationParametersChange(time=2570.9655663655844, initial_size=3985.9503332475247, growth_rate=None, population=-1), PopulationParametersChange(time=3089.4996264055935, initial_size=2168.1296774409334, growth_rate=None, population=-1), PopulationParametersChange(time=3137.7185637677526, initial_size=2631.5845069195307, growth_rate=None, population=-1), PopulationParametersChange(time=3272.90815093749, initial_size=2232.573484999948, growth_rate=None, population=-1), PopulationParametersChange(time=3329.6041059635027, initial_size=3252.8381337391793, growth_rate=None, population=-1), PopulationParametersChange(time=3591.891635008727, initial_size=3299.126977841448, growth_rate=None, population=-1), PopulationParametersChange(time=4737.84513585389, initial_size=3846.478323330984, growth_rate=None, population=-1)], migration_matrix=array([[0.]]))"
      ]
     },
     "execution_count": 169,
     "metadata": {},
     "output_type": "execute_result"
    }
   ],
   "source": [
    "dm = generate_demographic_events_complex()\n",
    "dm"
   ]
  },
  {
   "cell_type": "code",
   "execution_count": 170,
   "metadata": {},
   "outputs": [
    {
     "data": {
      "image/png": "[encoded data removed]",
      "text/plain": [
       "<Figure size 432x288 with 1 Axes>"
      ]
     },
     "metadata": {
      "needs_background": "light"
     },
     "output_type": "display_data"
    }
   ],
   "source": [
    "debug = dm.debug()\n",
    "\n",
    "t = np.linspace(0, 100_000, num=20)\n",
    "S = debug.population_size_trajectory(t)\n",
    "plt.plot(t, S, label=\"Population\")\n",
    "plt.xlabel(\"Time ago\")\n",
    "plt.ylabel(\"Population size\")\n",
    "plt.legend();"
   ]
  },
  {
   "cell_type": "code",
   "execution_count": null,
   "metadata": {},
   "outputs": [],
   "source": []
  },
  {
   "cell_type": "code",
   "execution_count": null,
   "metadata": {},
   "outputs": [],
   "source": []
  }
 ],
 "metadata": {
  "kernelspec": {
   "display_name": "Python 3",
   "language": "python",
   "name": "python3"
  },
  "language_info": {
   "codemirror_mode": {
    "name": "ipython",
    "version": 3
   },
   "file_extension": ".py",
   "mimetype": "text/x-python",
   "name": "python",
   "nbconvert_exporter": "python",
   "pygments_lexer": "ipython3",
   "version": "3.8.5"
  }
 },
 "nbformat": 4,
 "nbformat_minor": 4
}
